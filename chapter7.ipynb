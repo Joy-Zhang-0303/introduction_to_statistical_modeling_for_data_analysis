{
 "cells": [
  {
   "cell_type": "markdown",
   "metadata": {},
   "source": [
    "## 準備\n",
    "著者サイトで公開されているデータを使います。\n",
    "\n",
    "http://hosho.ees.hokudai.ac.jp/~kubo/ce/IwanamiBook.html"
   ]
  },
  {
   "cell_type": "code",
   "execution_count": 1,
   "metadata": {
    "collapsed": true
   },
   "outputs": [],
   "source": [
    "import requests\n",
    "import zipfile\n",
    "import math\n",
    "import numpy as np\n",
    "import pandas as pd\n",
    "import matplotlib.pyplot as plt\n",
    "import statsmodels.api as sm\n",
    "import statsmodels.formula.api as smf"
   ]
  },
  {
   "cell_type": "code",
   "execution_count": 2,
   "metadata": {
    "collapsed": false
   },
   "outputs": [
    {
     "data": {
      "text/plain": [
       "'%.3f'"
      ]
     },
     "execution_count": 2,
     "metadata": {},
     "output_type": "execute_result"
    }
   ],
   "source": [
    "%precision 3"
   ]
  },
  {
   "cell_type": "code",
   "execution_count": 3,
   "metadata": {
    "collapsed": true
   },
   "outputs": [],
   "source": [
    "# 全カラムを表示させる\n",
    "pd.set_option('display.max_columns', None)"
   ]
  },
  {
   "cell_type": "markdown",
   "metadata": {},
   "source": [
    "### 例題データのダウンロード"
   ]
  },
  {
   "cell_type": "code",
   "execution_count": 4,
   "metadata": {
    "collapsed": false
   },
   "outputs": [],
   "source": [
    "# 著者サイトから3ファイル(data4a.csvとdata4b.csv, )をダウンロード\n",
    "response = requests.get('http://hosho.ees.hokudai.ac.jp/~kubo/stat/iwanamibook/fig/glmm/data.csv')\n",
    "with open ('data7.csv', 'wb') as f:\n",
    "    f.write(response.content)\n",
    "    f.close()"
   ]
  },
  {
   "cell_type": "markdown",
   "metadata": {},
   "source": [
    "## 7.1 例題：GLMでは説明できないカウントデータ"
   ]
  },
  {
   "cell_type": "code",
   "execution_count": 5,
   "metadata": {
    "collapsed": false
   },
   "outputs": [
    {
     "data": {
      "text/html": [
       "<div>\n",
       "<table border=\"1\" class=\"dataframe\">\n",
       "  <thead>\n",
       "    <tr style=\"text-align: right;\">\n",
       "      <th></th>\n",
       "      <th>N</th>\n",
       "      <th>y</th>\n",
       "      <th>x</th>\n",
       "      <th>id</th>\n",
       "    </tr>\n",
       "  </thead>\n",
       "  <tbody>\n",
       "    <tr>\n",
       "      <th>0</th>\n",
       "      <td>8</td>\n",
       "      <td>0</td>\n",
       "      <td>2</td>\n",
       "      <td>1</td>\n",
       "    </tr>\n",
       "    <tr>\n",
       "      <th>1</th>\n",
       "      <td>8</td>\n",
       "      <td>1</td>\n",
       "      <td>2</td>\n",
       "      <td>2</td>\n",
       "    </tr>\n",
       "    <tr>\n",
       "      <th>2</th>\n",
       "      <td>8</td>\n",
       "      <td>2</td>\n",
       "      <td>2</td>\n",
       "      <td>3</td>\n",
       "    </tr>\n",
       "    <tr>\n",
       "      <th>3</th>\n",
       "      <td>8</td>\n",
       "      <td>4</td>\n",
       "      <td>2</td>\n",
       "      <td>4</td>\n",
       "    </tr>\n",
       "    <tr>\n",
       "      <th>4</th>\n",
       "      <td>8</td>\n",
       "      <td>1</td>\n",
       "      <td>2</td>\n",
       "      <td>5</td>\n",
       "    </tr>\n",
       "  </tbody>\n",
       "</table>\n",
       "</div>"
      ],
      "text/plain": [
       "   N  y  x  id\n",
       "0  8  0  2   1\n",
       "1  8  1  2   2\n",
       "2  8  2  2   3\n",
       "3  8  4  2   4\n",
       "4  8  1  2   5"
      ]
     },
     "execution_count": 5,
     "metadata": {},
     "output_type": "execute_result"
    }
   ],
   "source": [
    "data = pd.read_csv('data7.csv')\n",
    "\n",
    "data.head()"
   ]
  },
  {
   "cell_type": "code",
   "execution_count": 6,
   "metadata": {
    "collapsed": false
   },
   "outputs": [
    {
     "data": {
      "text/html": [
       "<table class=\"simpletable\">\n",
       "<caption>Generalized Linear Model Regression Results</caption>\n",
       "<tr>\n",
       "  <th>Dep. Variable:</th>  <td>['y', 'I(N - y)']</td> <th>  No. Observations:  </th>  <td>   100</td> \n",
       "</tr>\n",
       "<tr>\n",
       "  <th>Model:</th>                 <td>GLM</td>        <th>  Df Residuals:      </th>  <td>    98</td> \n",
       "</tr>\n",
       "<tr>\n",
       "  <th>Model Family:</th>       <td>Binomial</td>      <th>  Df Model:          </th>  <td>     1</td> \n",
       "</tr>\n",
       "<tr>\n",
       "  <th>Link Function:</th>        <td>logit</td>       <th>  Scale:             </th>    <td>1.0</td>  \n",
       "</tr>\n",
       "<tr>\n",
       "  <th>Method:</th>               <td>IRLS</td>        <th>  Log-Likelihood:    </th> <td> -322.80</td>\n",
       "</tr>\n",
       "<tr>\n",
       "  <th>Date:</th>           <td>Sat, 17 Feb 2018</td>  <th>  Deviance:          </th> <td>  513.84</td>\n",
       "</tr>\n",
       "<tr>\n",
       "  <th>Time:</th>               <td>15:19:55</td>      <th>  Pearson chi2:      </th>  <td>  428.</td> \n",
       "</tr>\n",
       "<tr>\n",
       "  <th>No. Iterations:</th>         <td>6</td>         <th>                     </th>     <td> </td>   \n",
       "</tr>\n",
       "</table>\n",
       "<table class=\"simpletable\">\n",
       "<tr>\n",
       "      <td></td>         <th>coef</th>     <th>std err</th>      <th>z</th>      <th>P>|z|</th> <th>[95.0% Conf. Int.]</th> \n",
       "</tr>\n",
       "<tr>\n",
       "  <th>Intercept</th> <td>   -2.1487</td> <td>    0.237</td> <td>   -9.057</td> <td> 0.000</td> <td>   -2.614    -1.684</td>\n",
       "</tr>\n",
       "<tr>\n",
       "  <th>x</th>         <td>    0.5104</td> <td>    0.056</td> <td>    9.179</td> <td> 0.000</td> <td>    0.401     0.619</td>\n",
       "</tr>\n",
       "</table>"
      ],
      "text/plain": [
       "<class 'statsmodels.iolib.summary.Summary'>\n",
       "\"\"\"\n",
       "                 Generalized Linear Model Regression Results                  \n",
       "==============================================================================\n",
       "Dep. Variable:      ['y', 'I(N - y)']   No. Observations:                  100\n",
       "Model:                            GLM   Df Residuals:                       98\n",
       "Model Family:                Binomial   Df Model:                            1\n",
       "Link Function:                  logit   Scale:                             1.0\n",
       "Method:                          IRLS   Log-Likelihood:                -322.80\n",
       "Date:                Sat, 17 Feb 2018   Deviance:                       513.84\n",
       "Time:                        15:19:55   Pearson chi2:                     428.\n",
       "No. Iterations:                     6                                         \n",
       "==============================================================================\n",
       "                 coef    std err          z      P>|z|      [95.0% Conf. Int.]\n",
       "------------------------------------------------------------------------------\n",
       "Intercept     -2.1487      0.237     -9.057      0.000        -2.614    -1.684\n",
       "x              0.5104      0.056      9.179      0.000         0.401     0.619\n",
       "==============================================================================\n",
       "\"\"\""
      ]
     },
     "execution_count": 6,
     "metadata": {},
     "output_type": "execute_result"
    }
   ],
   "source": [
    "# 二項分布にしたがうとして、y=β1+β2xの線形予測子とロジットリンク関数でモデルを作成\n",
    "result = smf.glm(formula='y + I(N-y) ~ x', data=data, family=sm.families.Binomial()).fit()\n",
    "\n",
    "result.summary()"
   ]
  },
  {
   "cell_type": "code",
   "execution_count": 7,
   "metadata": {
    "collapsed": false
   },
   "outputs": [
    {
     "data": {
      "image/png": "[encoded data removed]",
      "text/plain": [
       "<matplotlib.figure.Figure at 0x1088ebf98>"
      ]
     },
     "metadata": {},
     "output_type": "display_data"
    }
   ],
   "source": [
    "# x=4における種子数分布の予測値と実測値をプロット\n",
    "from scipy.stats import binom\n",
    "\n",
    "y = np.arange(9)\n",
    "\n",
    "logistic = lambda beta1, beta2, x: 1 / (1 + math.exp(-(beta1 + beta2*x)))\n",
    "q = logistic(result.params['Intercept'], result.params['x'], 4)\n",
    "\n",
    "plt.plot(y, [len(data[(data['x']==4) & (data['y']==y_i)]) for y_i in y], label='actually')\n",
    "plt.plot(y, [binom.pmf(y_i, 8, q)*8 for y_i in y], label='predicted')\n",
    "plt.legend()\n",
    "plt.xlabel('y')\n",
    "plt.ylabel('number of individuals')\n",
    "plt.show()"
   ]
  },
  {
   "cell_type": "markdown",
   "metadata": {},
   "source": [
    "## 7.2 過分散と個体差"
   ]
  },
  {
   "cell_type": "markdown",
   "metadata": {},
   "source": [
    "x=4の時のyはかなり分散が大きい。"
   ]
  },
  {
   "cell_type": "code",
   "execution_count": 8,
   "metadata": {
    "collapsed": false
   },
   "outputs": [
    {
     "name": "stdout",
     "output_type": "stream",
     "text": [
      "平均: 4.05\n",
      "分散: 8.365789473684211\n"
     ]
    }
   ],
   "source": [
    "data4 = data[(data['x']==4)]\n",
    "\n",
    "print('平均:', data4['y'].mean())\n",
    "print('分散:', data4['y'].var())"
   ]
  },
  {
   "cell_type": "markdown",
   "metadata": {},
   "source": [
    "## 7.3 一般化線形混合モデル"
   ]
  },
  {
   "cell_type": "code",
   "execution_count": 9,
   "metadata": {
    "collapsed": false
   },
   "outputs": [
    {
     "name": "stdout",
     "output_type": "stream",
     "text": [
      "平均: 4.14\n",
      "分散: 1.0404\n",
      "平均: 4.38\n",
      "分散: 9.7156\n"
     ]
    },
    {
     "data": {
      "image/png": "[encoded data removed]",
      "text/plain": [
       "<matplotlib.figure.Figure at 0x1143152e8>"
      ]
     },
     "metadata": {},
     "output_type": "display_data"
    }
   ],
   "source": [
    "from scipy.stats import binom, norm\n",
    "\n",
    "# fixedが固定効果、randomがランダム効果の変数\n",
    "# (fixed=0とすることで、ランダム効果のみで二項分布のパラメータqを計算する)\n",
    "logistic = lambda fixed, random: 1 / (1 + math.exp(-(fixed + random)))\n",
    "\n",
    "# 個体差のばらつきが小さい場合(s=0.5)\n",
    "r_small = norm.rvs(loc=0, scale=0.5, size=50, random_state=0)\n",
    "q_small = [logistic(0, r_i) for r_i in r_small]\n",
    "d_small = np.array([binom.rvs(8, q_i, size=1, random_state=0)[0] for q_i in q_small])\n",
    "plt.hist(d_small, bins=range(9), alpha=0.5, color='blue', label='s=0.5')\n",
    "\n",
    "print('平均:', d_small.mean()) # 4.14\n",
    "print('分散:', d_small.var()) # 1.0404\n",
    "\n",
    "# 個体差のばらつきが大きい場合(s=3.0)\n",
    "r_large = norm.rvs(loc=0, scale=3.0, size=50, random_state=0)\n",
    "q_large = [logistic(0, r_i) for r_i in r_large]\n",
    "d_large = np.array([binom.rvs(8, q_i, size=1, random_state=0)[0] for q_i in q_large])\n",
    "plt.hist(d_large, bins=range(9), alpha=0.5, color='red', label='s=3.0')\n",
    "\n",
    "print('平均:', d_large.mean()) # 4.38\n",
    "print('分散:', d_large.var()) # 9.7156\n",
    "\n",
    "plt.legend()\n",
    "plt.xlabel('y')\n",
    "plt.ylabel('number of individuals')\n",
    "plt.show()"
   ]
  },
  {
   "cell_type": "markdown",
   "metadata": {},
   "source": [
    "## 7.4 一般化線形モデルの最尤推定"
   ]
  },
  {
   "cell_type": "code",
   "execution_count": 10,
   "metadata": {
    "collapsed": false
   },
   "outputs": [
    {
     "data": {
      "text/plain": [
       "pyper.R"
      ]
     },
     "execution_count": 10,
     "metadata": {},
     "output_type": "execute_result"
    }
   ],
   "source": [
    "# 事前にRをインストールしておく必要があります\n",
    "import pyper # pip install pyper\n",
    "\n",
    "# Rオブジェクトを取得\n",
    "r = pyper.R()\n",
    "type(r)"
   ]
  },
  {
   "cell_type": "code",
   "execution_count": 11,
   "metadata": {
    "collapsed": false
   },
   "outputs": [
    {
     "name": "stdout",
     "output_type": "stream",
     "text": [
      "try({summary(data)})\n",
      "       N           y              x           id        \n",
      " Min.   :8   Min.   :0.00   Min.   :2   Min.   :  1.00  \n",
      " 1st Qu.:8   1st Qu.:1.00   1st Qu.:3   1st Qu.: 25.75  \n",
      " Median :8   Median :3.00   Median :4   Median : 50.50  \n",
      " Mean   :8   Mean   :3.81   Mean   :4   Mean   : 50.50  \n",
      " 3rd Qu.:8   3rd Qu.:7.00   3rd Qu.:5   3rd Qu.: 75.25  \n",
      " Max.   :8   Max.   :8.00   Max.   :6   Max.   :100.00  \n",
      "\n"
     ]
    }
   ],
   "source": [
    "# assignメソッドでRに名前dataで変数を渡す\n",
    "r.assign(\"data\", data)\n",
    "\n",
    "print(r(\"summary(data)\"))"
   ]
  },
  {
   "cell_type": "code",
   "execution_count": 12,
   "metadata": {
    "collapsed": false
   },
   "outputs": [
    {
     "name": "stdout",
     "output_type": "stream",
     "text": [
      "try({\n",
      "+ library(glmmML)\n",
      "+ result <- glmmML(cbind(y, N-y) ~ x, data = data, family = binomial, cluster = id)\n",
      "+ result\n",
      "+ })\n",
      "\n",
      "Call:  glmmML(formula = cbind(y, N - y) ~ x, family = binomial, data = data,      cluster = id) \n",
      "\n",
      "\n",
      "              coef se(coef)      z Pr(>|z|)\n",
      "(Intercept) -4.190   0.8777 -4.774 1.81e-06\n",
      "x            1.005   0.2075  4.843 1.28e-06\n",
      "\n",
      "Scale parameter in mixing distribution:  2.408 gaussian \n",
      "Std. Error:                              0.2202 \n",
      "\n",
      "        LR p-value for H_0: sigma = 0:  2.136e-55 \n",
      "\n",
      "Residual deviance: 269.4 on 97 degrees of freedom \tAIC: 275.4 \n",
      "\n"
     ]
    }
   ],
   "source": [
    "# glmmMLを事前にインストールしておきます\n",
    "# install.packages(\"glmmML\")\n",
    "\n",
    "# glmmMLを使って最尤推定\n",
    "print(r(\"\"\"\n",
    "library(glmmML)\n",
    "result <- glmmML(cbind(y, N-y) ~ x, data = data, family = binomial, cluster = id)\n",
    "result\n",
    "\"\"\"))"
   ]
  },
  {
   "cell_type": "code",
   "execution_count": 13,
   "metadata": {
    "collapsed": false
   },
   "outputs": [
    {
     "data": {
      "text/plain": [
       "{'aic': 275.414,\n",
       " 'boot': 0,\n",
       " 'bootP': None,\n",
       " 'call': array(['glmmML', 'cbind(y, N - y) ~ x', 'binomial', 'data', 'id'],\n",
       "       dtype='<U19'),\n",
       " 'cluster.null.deviance': 513.836,\n",
       " 'cluster.null.df': 98,\n",
       " 'coef.sd': array([ 0.878,  0.207]),\n",
       " 'coefficients': array([-4.19 ,  1.005]),\n",
       " 'converged': True,\n",
       " 'deviance': 269.414,\n",
       " 'df.residual': 97,\n",
       " 'info': 0,\n",
       " 'posterior.modes': array([-1.337,  0.195,  0.967,  2.007,  0.195, -1.337, -1.337,  3.556,\n",
       "         0.195,  2.962, -1.337, -1.337, -1.337, -1.337, -1.337,  0.195,\n",
       "         1.526,  2.469,  1.526,  3.556,  0.069, -0.648, -1.951,  2.05 ,\n",
       "        -0.648,  0.069, -1.951, -1.951, -1.951,  0.608,  1.546,  1.546,\n",
       "        -1.951, -1.951, -1.951,  3.639,  1.082,  0.069, -1.951,  3.639,\n",
       "         1.142, -0.834, -2.638,  0.624,  1.142, -0.834,  2.884, -0.834,\n",
       "         1.801,  1.801,  2.884, -2.638,  0.157,  1.801, -0.312, -1.507,\n",
       "        -0.312, -0.834,  2.884, -2.638,  0.938, -0.768, -1.742, -1.233,\n",
       "        -1.233,  0.938,  2.177,  0.938, -3.378,  0.938,  2.177,  2.177,\n",
       "         2.177,  0.237,  0.938, -0.768, -0.296, -2.376,  2.177, -1.742,\n",
       "        -3.256, -3.256, -4.158,  1.536,  1.536,  1.536,  1.536,  1.536,\n",
       "         1.536,  1.536,  1.536, -4.158, -0.663, -2.156, -2.156,  0.089,\n",
       "        -1.215,  0.089, -2.653,  1.536]),\n",
       " 'prior': 'gaussian',\n",
       " 'sigma': 2.408,\n",
       " 'sigma.sd': 0.220,\n",
       " 'terms': array(['~', 'cbind(y, N - y)', 'x'],\n",
       "       dtype='<U15'),\n",
       " 'variance': array([[  7.703e-01,  -5.691e-04,  -1.456e-03],\n",
       "        [ -5.691e-04,   4.304e-02,   1.181e-02],\n",
       "        [ -1.456e-03,   1.181e-02,   4.849e-02]])}"
      ]
     },
     "execution_count": 13,
     "metadata": {},
     "output_type": "execute_result"
    }
   ],
   "source": [
    "# result変数をgetメソッドでPythonオブジェクト(dict)として取得\n",
    "result = r.get(\"result\")\n",
    "\n",
    "result"
   ]
  }
 ],
 "metadata": {
  "kernelspec": {
   "display_name": "Python 3",
   "language": "python",
   "name": "python3"
  },
  "language_info": {
   "codemirror_mode": {
    "name": "ipython",
    "version": 3
   },
   "file_extension": ".py",
   "mimetype": "text/x-python",
   "name": "python",
   "nbconvert_exporter": "python",
   "pygments_lexer": "ipython3",
   "version": "3.6.0"
  }
 },
 "nbformat": 4,
 "nbformat_minor": 2
}
